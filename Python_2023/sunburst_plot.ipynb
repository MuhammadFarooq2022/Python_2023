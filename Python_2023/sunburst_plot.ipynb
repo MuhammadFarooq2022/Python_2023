{
 "cells": [
  {
   "cell_type": "code",
   "execution_count": 1,
   "metadata": {},
   "outputs": [],
   "source": [
    "import plotly.express as px \n",
    "import seaborn as sns"
   ]
  },
  {
   "cell_type": "code",
   "execution_count": 2,
   "metadata": {},
   "outputs": [],
   "source": [
    "df = sns.load_dataset(\"diamonds\")"
   ]
  },
  {
   "cell_type": "code",
   "execution_count": 3,
   "metadata": {},
   "outputs": [
    {
     "name": "stdout",
     "output_type": "stream",
     "text": [
      "<class 'pandas.core.frame.DataFrame'>\n",
      "RangeIndex: 53940 entries, 0 to 53939\n",
      "Data columns (total 10 columns):\n",
      " #   Column   Non-Null Count  Dtype   \n",
      "---  ------   --------------  -----   \n",
      " 0   carat    53940 non-null  float64 \n",
      " 1   cut      53940 non-null  category\n",
      " 2   color    53940 non-null  category\n",
      " 3   clarity  53940 non-null  category\n",
      " 4   depth    53940 non-null  float64 \n",
      " 5   table    53940 non-null  float64 \n",
      " 6   price    53940 non-null  int64   \n",
      " 7   x        53940 non-null  float64 \n",
      " 8   y        53940 non-null  float64 \n",
      " 9   z        53940 non-null  float64 \n",
      "dtypes: category(3), float64(6), int64(1)\n",
      "memory usage: 3.0 MB\n"
     ]
    }
   ],
   "source": [
    "df.info()"
   ]
  },
  {
   "cell_type": "code",
   "execution_count": 4,
   "metadata": {},
   "outputs": [
    {
     "data": {
      "text/plain": [
       "Index(['carat', 'cut', 'color', 'clarity', 'depth', 'table', 'price', 'x', 'y',\n",
       "       'z'],\n",
       "      dtype='object')"
      ]
     },
     "execution_count": 4,
     "metadata": {},
     "output_type": "execute_result"
    }
   ],
   "source": [
    "df.columns"
   ]
  },
  {
   "cell_type": "code",
   "execution_count": 5,
   "metadata": {},
   "outputs": [
    {
     "data": {
      "application/vnd.plotly.v1+json": {
       "config": {
        "plotlyServerURL": "https://plot.ly"
       },
       "data": [
        {
         "branchvalues": "total",
         "customdata": [
          [
           "(?)",
           "Fair"
          ],
          [
           "(?)",
           "Premium"
          ],
          [
           "(?)",
           "Fair"
          ],
          [
           "(?)",
           "Premium"
          ],
          [
           "(?)",
           "Ideal"
          ],
          [
           "(?)",
           "Fair"
          ],
          [
           "(?)",
           "Good"
          ],
          [
           "(?)",
           "Fair"
          ],
          [
           "(?)",
           "Good"
          ],
          [
           "(?)",
           "Good"
          ],
          [
           "(?)",
           "Premium"
          ],
          [
           "(?)",
           "Very Good"
          ],
          [
           "(?)",
           "Very Good"
          ],
          [
           "(?)",
           "Good"
          ],
          [
           "(?)",
           "Very Good"
          ],
          [
           "(?)",
           "Very Good"
          ],
          [
           "(?)",
           "Good"
          ],
          [
           "(?)",
           "Very Good"
          ],
          [
           "(?)",
           "Premium"
          ],
          [
           "(?)",
           "Ideal"
          ],
          [
           "(?)",
           "Ideal"
          ],
          [
           "(?)",
           "Fair"
          ],
          [
           "(?)",
           "Fair"
          ],
          [
           "(?)",
           "Good"
          ],
          [
           "(?)",
           "Fair"
          ],
          [
           "(?)",
           "Fair"
          ],
          [
           "(?)",
           "Ideal"
          ],
          [
           0.91,
           "Fair"
          ],
          [
           "(?)",
           "Premium"
          ],
          [
           "(?)",
           "Fair"
          ],
          [
           "(?)",
           "Fair"
          ],
          [
           "(?)",
           "Fair"
          ],
          [
           "(?)",
           "Good"
          ],
          [
           "(?)",
           "Good"
          ],
          [
           "(?)",
           "Premium"
          ],
          [
           "(?)",
           "Fair"
          ],
          [
           "(?)",
           "Premium"
          ],
          [
           "(?)",
           "Very Good"
          ],
          [
           "(?)",
           "Very Good"
          ],
          [
           "(?)",
           "Ideal"
          ],
          [
           "(?)",
           "Very Good"
          ],
          [
           "(?)",
           "Fair"
          ],
          [
           "(?)",
           "Fair"
          ],
          [
           "(?)",
           "Ideal"
          ],
          [
           "(?)",
           "Good"
          ],
          [
           "(?)",
           "Ideal"
          ],
          [
           "(?)",
           "Ideal"
          ],
          [
           "(?)",
           "Ideal"
          ],
          [
           "(?)",
           "Ideal"
          ],
          [
           "(?)",
           "Fair"
          ],
          [
           "(?)",
           "Premium"
          ],
          [
           "(?)",
           "Ideal"
          ],
          [
           "(?)",
           "Very Good"
          ],
          [
           "(?)",
           "Good"
          ],
          [
           "(?)",
           "Ideal"
          ],
          [
           "(?)",
           "Premium"
          ],
          [
           "(?)",
           "Ideal"
          ],
          [
           "(?)",
           "Ideal"
          ],
          [
           "(?)",
           "Very Good"
          ],
          [
           "(?)",
           "Ideal"
          ],
          [
           "(?)",
           "Fair"
          ],
          [
           "(?)",
           "Good"
          ],
          [
           "(?)",
           "Fair"
          ],
          [
           "(?)",
           "Fair"
          ],
          [
           "(?)",
           "Fair"
          ],
          [
           "(?)",
           "Premium"
          ],
          [
           "(?)",
           "Good"
          ],
          [
           "(?)",
           "Very Good"
          ],
          [
           "(?)",
           "Ideal"
          ],
          [
           "(?)",
           "Premium"
          ],
          [
           "(?)",
           "Good"
          ],
          [
           "(?)",
           "Fair"
          ],
          [
           "(?)",
           "Good"
          ],
          [
           "(?)",
           "Good"
          ],
          [
           "(?)",
           "Ideal"
          ],
          [
           "(?)",
           "Fair"
          ],
          [
           "(?)",
           "Good"
          ],
          [
           "(?)",
           "Good"
          ],
          [
           "(?)",
           "Fair"
          ],
          [
           "(?)",
           "Good"
          ],
          [
           "(?)",
           "Premium"
          ],
          [
           "(?)",
           "Very Good"
          ],
          [
           "(?)",
           "Good"
          ],
          [
           "(?)",
           "Fair"
          ],
          [
           "(?)",
           "Ideal"
          ],
          [
           "(?)",
           "Ideal"
          ],
          [
           "(?)",
           "Very Good"
          ],
          [
           "(?)",
           "Good"
          ],
          [
           "(?)",
           "Good"
          ],
          [
           "(?)",
           "Fair"
          ],
          [
           "(?)",
           "Very Good"
          ],
          [
           "(?)",
           "Good"
          ],
          [
           "(?)",
           "Ideal"
          ],
          [
           "(?)",
           "Premium"
          ],
          [
           "(?)",
           "Fair"
          ],
          [
           "(?)",
           "Ideal"
          ],
          [
           "(?)",
           "Very Good"
          ],
          [
           "(?)",
           "Good"
          ],
          [
           "(?)",
           "Very Good"
          ],
          [
           "(?)",
           "Fair"
          ],
          [
           "(?)",
           "Very Good"
          ],
          [
           "(?)",
           "Good"
          ],
          [
           "(?)",
           "Fair"
          ],
          [
           "(?)",
           "Premium"
          ],
          [
           "(?)",
           "Very Good"
          ],
          [
           "(?)",
           "Ideal"
          ],
          [
           "(?)",
           "Premium"
          ],
          [
           "(?)",
           "Fair"
          ],
          [
           "(?)",
           "Good"
          ],
          [
           "(?)",
           "Fair"
          ],
          [
           "(?)",
           "Very Good"
          ],
          [
           "(?)",
           "Ideal"
          ],
          [
           "(?)",
           "Good"
          ],
          [
           "(?)",
           "Fair"
          ],
          [
           "(?)",
           "Ideal"
          ],
          [
           "(?)",
           "Premium"
          ],
          [
           "(?)",
           "Fair"
          ],
          [
           "(?)",
           "Good"
          ],
          [
           "(?)",
           "Fair"
          ],
          [
           "(?)",
           "Ideal"
          ],
          [
           "(?)",
           "Ideal"
          ],
          [
           "(?)",
           "Good"
          ],
          [
           "(?)",
           "Very Good"
          ],
          [
           1.01,
           "Fair"
          ],
          [
           "(?)",
           "Ideal"
          ],
          [
           "(?)",
           "Very Good"
          ],
          [
           "(?)",
           "Premium"
          ],
          [
           "(?)",
           "Very Good"
          ],
          [
           "(?)",
           "Good"
          ],
          [
           "(?)",
           "Very Good"
          ],
          [
           "(?)",
           "Very Good"
          ],
          [
           "(?)",
           "Premium"
          ],
          [
           "(?)",
           "Premium"
          ],
          [
           "(?)",
           "Very Good"
          ],
          [
           "(?)",
           "Ideal"
          ],
          [
           "(?)",
           "Good"
          ],
          [
           "(?)",
           "Ideal"
          ],
          [
           "(?)",
           "Fair"
          ],
          [
           "(?)",
           "Very Good"
          ],
          [
           "(?)",
           "Ideal"
          ],
          [
           "(?)",
           "Premium"
          ],
          [
           "(?)",
           "Ideal"
          ],
          [
           "(?)",
           "Premium"
          ],
          [
           "(?)",
           "Ideal"
          ],
          [
           "(?)",
           "Fair"
          ],
          [
           "(?)",
           "Premium"
          ],
          [
           "(?)",
           "Good"
          ],
          [
           "(?)",
           "Fair"
          ],
          [
           "(?)",
           "Very Good"
          ],
          [
           "(?)",
           "Ideal"
          ],
          [
           "(?)",
           "Good"
          ],
          [
           "(?)",
           "Fair"
          ],
          [
           "(?)",
           "Premium"
          ],
          [
           "(?)",
           "Very Good"
          ],
          [
           "(?)",
           "Good"
          ],
          [
           "(?)",
           "Premium"
          ],
          [
           "(?)",
           "Ideal"
          ],
          [
           "(?)",
           "Premium"
          ],
          [
           0.9,
           "Fair"
          ],
          [
           "(?)",
           "Ideal"
          ],
          [
           1,
           "Good"
          ],
          [
           "(?)",
           "Premium"
          ],
          [
           0.7,
           "Fair"
          ],
          [
           "(?)",
           "Ideal"
          ],
          [
           "(?)",
           "Very Good"
          ],
          [
           "(?)",
           "Premium"
          ],
          [
           "(?)",
           "Premium"
          ],
          [
           "(?)",
           "Very Good"
          ],
          [
           "(?)",
           "Very Good"
          ],
          [
           "(?)",
           "Very Good"
          ],
          [
           "(?)",
           "Premium"
          ],
          [
           "(?)",
           "Good"
          ],
          [
           "(?)",
           "Premium"
          ],
          [
           "(?)",
           "Premium"
          ],
          [
           "(?)",
           "Very Good"
          ],
          [
           "(?)",
           "Fair"
          ],
          [
           "(?)",
           "Ideal"
          ],
          [
           "(?)",
           "Very Good"
          ],
          [
           "(?)",
           "Ideal"
          ],
          [
           "(?)",
           "Fair"
          ],
          [
           "(?)",
           "Good"
          ],
          [
           "(?)",
           "Premium"
          ],
          [
           "(?)",
           "Fair"
          ],
          [
           "(?)",
           "Good"
          ],
          [
           "(?)",
           "Very Good"
          ],
          [
           "(?)",
           "Premium"
          ],
          [
           "(?)",
           "Ideal"
          ],
          [
           "(?)",
           "Very Good"
          ],
          [
           "(?)",
           "Good"
          ],
          [
           "(?)",
           "Very Good"
          ],
          [
           "(?)",
           "Premium"
          ],
          [
           "(?)",
           "Fair"
          ],
          [
           "(?)",
           "Good"
          ],
          [
           "(?)",
           "Ideal"
          ],
          [
           "(?)",
           "Fair"
          ],
          [
           "(?)",
           "Very Good"
          ],
          [
           "(?)",
           "Fair"
          ],
          [
           "(?)",
           "Good"
          ],
          [
           "(?)",
           "Ideal"
          ],
          [
           "(?)",
           "Premium"
          ],
          [
           "(?)",
           "Fair"
          ],
          [
           "(?)",
           "Fair"
          ],
          [
           "(?)",
           "Premium"
          ],
          [
           "(?)",
           "Very Good"
          ],
          [
           "(?)",
           "Good"
          ],
          [
           "(?)",
           "Premium"
          ],
          [
           "(?)",
           "Fair"
          ],
          [
           "(?)",
           "Ideal"
          ],
          [
           "(?)",
           "Fair"
          ],
          [
           "(?)",
           "Good"
          ],
          [
           "(?)",
           "Premium"
          ],
          [
           "(?)",
           "Good"
          ],
          [
           "(?)",
           "Very Good"
          ],
          [
           "(?)",
           "Ideal"
          ],
          [
           "(?)",
           "Good"
          ],
          [
           "(?)",
           "Premium"
          ],
          [
           "(?)",
           "Ideal"
          ],
          [
           "(?)",
           "Premium"
          ],
          [
           "(?)",
           "Very Good"
          ],
          [
           "(?)",
           "Ideal"
          ],
          [
           "(?)",
           "Premium"
          ],
          [
           "(?)",
           "Ideal"
          ],
          [
           "(?)",
           "Very Good"
          ],
          [
           "(?)",
           "Good"
          ],
          [
           "(?)",
           "Ideal"
          ],
          [
           "(?)",
           "Very Good"
          ],
          [
           "(?)",
           "Fair"
          ],
          [
           "(?)",
           "Good"
          ],
          [
           "(?)",
           "Good"
          ],
          [
           "(?)",
           "Very Good"
          ],
          [
           "(?)",
           "Premium"
          ],
          [
           "(?)",
           "Ideal"
          ],
          [
           "(?)",
           "Very Good"
          ],
          [
           "(?)",
           "Very Good"
          ],
          [
           "(?)",
           "Premium"
          ],
          [
           "(?)",
           "Ideal"
          ],
          [
           "(?)",
           "Ideal"
          ],
          [
           "(?)",
           "Good"
          ],
          [
           "(?)",
           "Very Good"
          ],
          [
           "(?)",
           "Premium"
          ],
          [
           "(?)",
           "Very Good"
          ],
          [
           "(?)",
           "Premium"
          ],
          [
           null,
           null
          ],
          [
           "(?)",
           "Very Good"
          ],
          [
           "(?)",
           "Good"
          ],
          [
           "(?)",
           "Ideal"
          ],
          [
           "(?)",
           "Very Good"
          ],
          [
           "(?)",
           "Good"
          ],
          [
           "(?)",
           "Premium"
          ],
          [
           "(?)",
           "Good"
          ],
          [
           "(?)",
           "Good"
          ],
          [
           "(?)",
           "Fair"
          ],
          [
           "(?)",
           "Premium"
          ],
          [
           "(?)",
           "Very Good"
          ],
          [
           "(?)",
           "Good"
          ],
          [
           "(?)",
           "Ideal"
          ],
          [
           "(?)",
           "Premium"
          ],
          [
           "(?)",
           "Very Good"
          ],
          [
           "(?)",
           "Ideal"
          ],
          [
           null,
           null
          ],
          [
           "(?)",
           "Premium"
          ],
          [
           "(?)",
           "Very Good"
          ],
          [
           "(?)",
           "Very Good"
          ],
          [
           "(?)",
           "Premium"
          ],
          [
           "(?)",
           "Fair"
          ],
          [
           "(?)",
           "Good"
          ],
          [
           "(?)",
           "Fair"
          ],
          [
           "(?)",
           "Premium"
          ],
          [
           "(?)",
           "Fair"
          ],
          [
           "(?)",
           "Premium"
          ],
          [
           "(?)",
           "Premium"
          ],
          [
           "(?)",
           "Ideal"
          ],
          [
           "(?)",
           "Very Good"
          ],
          [
           null,
           null
          ],
          [
           "(?)",
           "Premium"
          ],
          [
           "(?)",
           "Ideal"
          ],
          [
           "(?)",
           "Good"
          ],
          [
           "(?)",
           "Good"
          ],
          [
           "(?)",
           "Fair"
          ],
          [
           "(?)",
           "Ideal"
          ],
          [
           "(?)",
           "Good"
          ],
          [
           "(?)",
           "Very Good"
          ],
          [
           "(?)",
           "Premium"
          ],
          [
           "(?)",
           "Good"
          ],
          [
           "(?)",
           "Premium"
          ],
          [
           "(?)",
           "Premium"
          ],
          [
           "(?)",
           "Ideal"
          ],
          [
           "(?)",
           "Very Good"
          ],
          [
           "(?)",
           "Very Good"
          ],
          [
           "(?)",
           "Very Good"
          ],
          [
           "(?)",
           "Premium"
          ],
          [
           "(?)",
           "Ideal"
          ],
          [
           "(?)",
           "Good"
          ],
          [
           "(?)",
           "Good"
          ],
          [
           "(?)",
           "Fair"
          ],
          [
           "(?)",
           "Very Good"
          ],
          [
           "(?)",
           "Ideal"
          ],
          [
           "(?)",
           "Good"
          ],
          [
           "(?)",
           "Premium"
          ],
          [
           "(?)",
           "Premium"
          ],
          [
           "(?)",
           "Ideal"
          ],
          [
           "(?)",
           "Very Good"
          ],
          [
           "(?)",
           "Very Good"
          ],
          [
           "(?)",
           "Fair"
          ],
          [
           "(?)",
           "Good"
          ],
          [
           "(?)",
           "Ideal"
          ],
          [
           null,
           null
          ],
          [
           "(?)",
           "Premium"
          ],
          [
           "(?)",
           "Ideal"
          ],
          [
           "(?)",
           "Ideal"
          ],
          [
           "(?)",
           "Good"
          ],
          [
           "(?)",
           "Premium"
          ],
          [
           "(?)",
           "Very Good"
          ],
          [
           "(?)",
           "Premium"
          ],
          [
           "(?)",
           "Very Good"
          ],
          [
           "(?)",
           "Good"
          ],
          [
           "(?)",
           "Fair"
          ],
          [
           "(?)",
           "Ideal"
          ],
          [
           "(?)",
           "Premium"
          ],
          [
           "(?)",
           "Fair"
          ]
         ],
         "domain": {
          "x": [
           0,
           1
          ],
          "y": [
           0,
           1
          ]
         },
         "hovertemplate": "labels=%{label}<br>price=%{value}<br>parent=%{parent}<br>id=%{id}<br>carat=%{customdata[0]}<br>cut=%{customdata[1]}<extra></extra>",
         "ids": [
          "Fair/H/VS1",
          "Premium/H/VVS2",
          "Fair/I/SI1",
          "Premium/G",
          "Ideal/F/I1",
          "Fair/J",
          "Good/G/VS1",
          "Fair/G/VS1",
          "Good/E/IF",
          "Good/H/VS1",
          "Premium/J/SI2",
          "Very Good/I/VVS2",
          "Very Good/G/SI2",
          "Good/G",
          "Very Good/F/VVS1",
          "Very Good/D/VVS1",
          "Good/E/VVS1",
          "Very Good/E/VVS1",
          "Premium/E/I1",
          "Ideal/I/VVS2",
          "Ideal/G/SI1",
          "Fair/E/VVS1",
          "Fair/J/SI2",
          "Good/I/SI2",
          "Fair/I/VS2",
          "Fair/I/SI2",
          "Ideal/D/SI1",
          "Fair/H/VVS1",
          "Premium/F/SI2",
          "Fair/F/VVS2",
          "Fair/E/SI1",
          "Fair/F/SI1",
          "Good/I/SI1",
          "Good/J/SI2",
          "Premium/D/VVS1",
          "Fair/D/VVS2",
          "Premium/I/VVS2",
          "Very Good/I/I1",
          "Very Good/D/IF",
          "Ideal/D/VVS1",
          "Very Good/G/IF",
          "Fair/D/IF",
          "Fair/J/I1",
          "Ideal/E",
          "Good/G/IF",
          "Ideal/H/IF",
          "Ideal/I",
          "Ideal/F/IF",
          "Ideal/E/VS2",
          "Fair/D/SI1",
          "Premium/E/SI1",
          "Ideal/I/VS1",
          "Very Good/E/SI1",
          "Good/E/SI1",
          "Ideal/F/SI1",
          "Premium/G/VS1",
          "Ideal/G/VS1",
          "Ideal/E/SI1",
          "Very Good/I/VS1",
          "Ideal/J/VS2",
          "Fair/J/VS2",
          "Good/J/VS2",
          "Fair/J/VS1",
          "Fair/D/VS2",
          "Fair/E/VS2",
          "Premium/F/VS2",
          "Good/I/VS2",
          "Very Good/I/VS2",
          "Ideal/G/VS2",
          "Premium/G/VS2",
          "Good",
          "Fair/H/VS2",
          "Good/H/VS2",
          "Good/J/VS1",
          "Ideal/D/IF",
          "Fair/G/SI2",
          "Good/H/SI1",
          "Good/I/I1",
          "Fair/I/I1",
          "Good/J/I1",
          "Premium/F",
          "Very Good/F",
          "Good/F",
          "Fair/F",
          "Ideal/G",
          "Ideal/H",
          "Very Good/H",
          "Good/H",
          "Good/I",
          "Fair/I",
          "Very Good/J",
          "Good/J",
          "Ideal",
          "Premium",
          "Fair/H/I1",
          "Ideal/H/I1",
          "Very Good/G/I1",
          "Good/F/I1",
          "Very Good/J/SI1",
          "Fair/J/SI1",
          "Very Good/D/SI2",
          "Good/D/SI2",
          "Fair/D/SI2",
          "Premium/E/SI2",
          "Very Good/E/SI2",
          "Ideal/F/SI2",
          "Premium/G/SI1",
          "Fair/F/SI2",
          "Good/H/SI2",
          "Fair/H/SI2",
          "Very Good/I/SI2",
          "Ideal/J/SI2",
          "Good/D/I1",
          "Fair/D/I1",
          "Ideal/E/I1",
          "Premium/F/I1",
          "Fair/F/VS1",
          "Good/F/VS1",
          "Fair/G/VS2",
          "Ideal/J/VVS1",
          "Ideal/I/VVS1",
          "Good/F/VVS2",
          "Very Good/F/VVS2",
          "Fair/J/VVS2",
          "Ideal/D/VS1",
          "Very Good/G/VVS1",
          "Premium/E/VVS1",
          "Very Good/I/VVS1",
          "Good/I/VVS1",
          "Very Good/F/VS1",
          "Very Good/D/VS1",
          "Premium/G/VVS1",
          "Premium/G/IF",
          "Very Good/J/VVS2",
          "Ideal/H/VVS1",
          "Good/F/IF",
          "Ideal/F/VS1",
          "Fair/E/VS1",
          "Very Good/H/VVS2",
          "Ideal/H/VVS2",
          "Premium/F/IF",
          "Ideal/E/VVS1",
          "Premium/E/VS1",
          "Ideal/E/VS1",
          "Fair/D/VS1",
          "Premium/J/VVS1",
          "Good/D/VS1",
          "Fair/D/VVS1",
          "Very Good/J/SI2",
          "Ideal/D/I1",
          "Good/G/VVS1",
          "Fair/G/VVS1",
          "Premium/F/VS1",
          "Very Good/F/SI2",
          "Good/G/SI2",
          "Premium/G/SI2",
          "Ideal/G/SI2",
          "Premium/I/VVS1",
          "Fair/I/VVS1",
          "Ideal/E/SI2",
          "Good/J/VVS1",
          "Premium/D/SI2",
          "Fair/J/VVS1",
          "Ideal/J/SI1",
          "Very Good/D/VVS2",
          "Premium/H/VVS1",
          "Premium/D/I1",
          "Very Good/F/I1",
          "Very Good/E/I1",
          "Very Good",
          "Premium/D/IF",
          "Good/D/IF",
          "Premium/J",
          "Premium/I",
          "Very Good/F/IF",
          "Fair/F/IF",
          "Ideal/G/IF",
          "Very Good/G",
          "Ideal/F",
          "Fair/E",
          "Good/E",
          "Premium/I/IF",
          "Fair/D",
          "Good/D",
          "Very Good/D",
          "Premium/D",
          "Ideal/D",
          "Very Good/J/I1",
          "Good/H/I1",
          "Very Good/H/I1",
          "Premium/H/I1",
          "Fair/G/I1",
          "Good/G/I1",
          "Ideal/G/I1",
          "Fair/F/I1",
          "Very Good/I/SI1",
          "Fair/E/I1",
          "Good/E/I1",
          "Ideal/F/VVS1",
          "Premium/I/SI1",
          "Fair",
          "Fair/H/SI1",
          "Premium/G/VVS2",
          "Very Good/G/VVS2",
          "Good/G/VVS2",
          "Premium/J/VS2",
          "Fair/G/VVS2",
          "Ideal/H/VS2",
          "Fair/I/VVS2",
          "Good/G/VS2",
          "Premium/J/VVS2",
          "Good/F/VS2",
          "Very Good/F/VS2",
          "Ideal/F/VS2",
          "Good/J/VVS2",
          "Premium/D/VS2",
          "Ideal/D/VS2",
          "Premium/D/VS1",
          "Very Good/J/VS1",
          "Ideal/J/VS1",
          "Premium/H/VS1",
          "Ideal/H/VS1",
          "Very Good/E/VS1",
          "Good/D/SI1",
          "Ideal/G/VVS2",
          "Very Good/G/VS2",
          "Fair/G/SI1",
          "Good/D/VVS2",
          "Good/G/SI1",
          "Very Good/H/SI1",
          "Premium/H/SI1",
          "Ideal/H/SI1",
          "Very Good/G/SI1",
          "Very Good/F/SI1",
          "Premium/F/VVS2",
          "Ideal/I/IF",
          "Ideal/D/VVS2",
          "Good/J/SI1",
          "Very Good/E",
          "Premium/E",
          "Very Good/D/VS2",
          "Premium/E/VS2",
          "Fair/H/IF",
          "Very Good/E/VS2",
          "Good/E/VS2",
          "Ideal/D/SI2",
          "Very Good/I/IF",
          "Good/I/IF",
          "Premium/J/I1",
          "Good/D/VS2",
          "Good/H/IF",
          "Fair/G/IF",
          "Premium/H/IF",
          "Very Good/G/VS1",
          "Good/E/VS1",
          "Ideal/E/IF",
          "Premium/E/IF",
          "Very Good/E/IF",
          "Ideal/J",
          "Fair/E/IF",
          "Premium/D/VVS2",
          "Very Good/I",
          "Very Good/H/VS1",
          "Premium/I/VS1",
          "Fair/H",
          "Good/I/VS1",
          "Fair/I/VS1",
          "Premium/H",
          "Fair/G",
          "Premium/J/VS1",
          "Premium/J/SI1",
          "Ideal/J/I1",
          "Very Good/H/IF",
          "Fair/I/IF",
          "Premium/J/IF",
          "Ideal/F/VVS2",
          "Good/H/VVS2",
          "Good/E/SI2",
          "Fair/F/VVS1",
          "Ideal/G/VVS1",
          "Good/F/SI1",
          "Very Good/J/VS2",
          "Premium/F/SI1",
          "Good/E/VVS2",
          "Premium/D/SI1",
          "Premium/I/SI2",
          "Ideal/I/SI2",
          "Very Good/D/SI1",
          "Very Good/H/VVS1",
          "Very Good/H/SI2",
          "Premium/H/SI2",
          "Ideal/H/SI2",
          "Good/H/VVS1",
          "Good/F/SI2",
          "Fair/E/VVS2",
          "Very Good/D/I1",
          "Ideal/J/IF",
          "Good/F/VVS1",
          "Premium/I/VS2",
          "Premium/I/I1",
          "Ideal/I/I1",
          "Very Good/J/IF",
          "Very Good/J/VVS1",
          "Fair/F/VS2",
          "Good/J/IF",
          "Ideal/J/VVS2",
          "Fair/J/IF",
          "Premium/G/I1",
          "Ideal/I/SI1",
          "Ideal/E/VVS2",
          "Good/D/VVS1",
          "Premium/E/VVS2",
          "Very Good/E/VVS2",
          "Premium/H/VS2",
          "Very Good/H/VS2",
          "Good/I/VVS2",
          "Fair/H/VVS2",
          "Ideal/I/VS2",
          "Premium/F/VVS1",
          "Fair/E/SI2"
         ],
         "labels": [
          "VS1",
          "VVS2",
          "SI1",
          "G",
          "I1",
          "J",
          "VS1",
          "VS1",
          "IF",
          "VS1",
          "SI2",
          "VVS2",
          "SI2",
          "G",
          "VVS1",
          "VVS1",
          "VVS1",
          "VVS1",
          "I1",
          "VVS2",
          "SI1",
          "VVS1",
          "SI2",
          "SI2",
          "VS2",
          "SI2",
          "SI1",
          "VVS1",
          "SI2",
          "VVS2",
          "SI1",
          "SI1",
          "SI1",
          "SI2",
          "VVS1",
          "VVS2",
          "VVS2",
          "I1",
          "IF",
          "VVS1",
          "IF",
          "IF",
          "I1",
          "E",
          "IF",
          "IF",
          "I",
          "IF",
          "VS2",
          "SI1",
          "SI1",
          "VS1",
          "SI1",
          "SI1",
          "SI1",
          "VS1",
          "VS1",
          "SI1",
          "VS1",
          "VS2",
          "VS2",
          "VS2",
          "VS1",
          "VS2",
          "VS2",
          "VS2",
          "VS2",
          "VS2",
          "VS2",
          "VS2",
          "Good",
          "VS2",
          "VS2",
          "VS1",
          "IF",
          "SI2",
          "SI1",
          "I1",
          "I1",
          "I1",
          "F",
          "F",
          "F",
          "F",
          "G",
          "H",
          "H",
          "H",
          "I",
          "I",
          "J",
          "J",
          "Ideal",
          "Premium",
          "I1",
          "I1",
          "I1",
          "I1",
          "SI1",
          "SI1",
          "SI2",
          "SI2",
          "SI2",
          "SI2",
          "SI2",
          "SI2",
          "SI1",
          "SI2",
          "SI2",
          "SI2",
          "SI2",
          "SI2",
          "I1",
          "I1",
          "I1",
          "I1",
          "VS1",
          "VS1",
          "VS2",
          "VVS1",
          "VVS1",
          "VVS2",
          "VVS2",
          "VVS2",
          "VS1",
          "VVS1",
          "VVS1",
          "VVS1",
          "VVS1",
          "VS1",
          "VS1",
          "VVS1",
          "IF",
          "VVS2",
          "VVS1",
          "IF",
          "VS1",
          "VS1",
          "VVS2",
          "VVS2",
          "IF",
          "VVS1",
          "VS1",
          "VS1",
          "VS1",
          "VVS1",
          "VS1",
          "VVS1",
          "SI2",
          "I1",
          "VVS1",
          "VVS1",
          "VS1",
          "SI2",
          "SI2",
          "SI2",
          "SI2",
          "VVS1",
          "VVS1",
          "SI2",
          "VVS1",
          "SI2",
          "VVS1",
          "SI1",
          "VVS2",
          "VVS1",
          "I1",
          "I1",
          "I1",
          "Very Good",
          "IF",
          "IF",
          "J",
          "I",
          "IF",
          "IF",
          "IF",
          "G",
          "F",
          "E",
          "E",
          "IF",
          "D",
          "D",
          "D",
          "D",
          "D",
          "I1",
          "I1",
          "I1",
          "I1",
          "I1",
          "I1",
          "I1",
          "I1",
          "SI1",
          "I1",
          "I1",
          "VVS1",
          "SI1",
          "Fair",
          "SI1",
          "VVS2",
          "VVS2",
          "VVS2",
          "VS2",
          "VVS2",
          "VS2",
          "VVS2",
          "VS2",
          "VVS2",
          "VS2",
          "VS2",
          "VS2",
          "VVS2",
          "VS2",
          "VS2",
          "VS1",
          "VS1",
          "VS1",
          "VS1",
          "VS1",
          "VS1",
          "SI1",
          "VVS2",
          "VS2",
          "SI1",
          "VVS2",
          "SI1",
          "SI1",
          "SI1",
          "SI1",
          "SI1",
          "SI1",
          "VVS2",
          "IF",
          "VVS2",
          "SI1",
          "E",
          "E",
          "VS2",
          "VS2",
          "IF",
          "VS2",
          "VS2",
          "SI2",
          "IF",
          "IF",
          "I1",
          "VS2",
          "IF",
          "IF",
          "IF",
          "VS1",
          "VS1",
          "IF",
          "IF",
          "IF",
          "J",
          "IF",
          "VVS2",
          "I",
          "VS1",
          "VS1",
          "H",
          "VS1",
          "VS1",
          "H",
          "G",
          "VS1",
          "SI1",
          "I1",
          "IF",
          "IF",
          "IF",
          "VVS2",
          "VVS2",
          "SI2",
          "VVS1",
          "VVS1",
          "SI1",
          "VS2",
          "SI1",
          "VVS2",
          "SI1",
          "SI2",
          "SI2",
          "SI1",
          "VVS1",
          "SI2",
          "SI2",
          "SI2",
          "VVS1",
          "SI2",
          "VVS2",
          "I1",
          "IF",
          "VVS1",
          "VS2",
          "I1",
          "I1",
          "IF",
          "VVS1",
          "VS2",
          "IF",
          "VVS2",
          "IF",
          "I1",
          "SI1",
          "VVS2",
          "VVS1",
          "VVS2",
          "VVS2",
          "VS2",
          "VS2",
          "VVS2",
          "VVS2",
          "VS2",
          "VVS1",
          "SI2"
         ],
         "marker": {
          "colors": [
           "#636efa",
           "#EF553B",
           "#636efa",
           "#EF553B",
           "#00cc96",
           "#636efa",
           "#ab63fa",
           "#636efa",
           "#ab63fa",
           "#ab63fa",
           "#EF553B",
           "#FFA15A",
           "#FFA15A",
           "#ab63fa",
           "#FFA15A",
           "#FFA15A",
           "#ab63fa",
           "#FFA15A",
           "#EF553B",
           "#00cc96",
           "#00cc96",
           "#636efa",
           "#636efa",
           "#ab63fa",
           "#636efa",
           "#636efa",
           "#00cc96",
           "#636efa",
           "#EF553B",
           "#636efa",
           "#636efa",
           "#636efa",
           "#ab63fa",
           "#ab63fa",
           "#EF553B",
           "#636efa",
           "#EF553B",
           "#FFA15A",
           "#FFA15A",
           "#00cc96",
           "#FFA15A",
           "#636efa",
           "#636efa",
           "#00cc96",
           "#ab63fa",
           "#00cc96",
           "#00cc96",
           "#00cc96",
           "#00cc96",
           "#636efa",
           "#EF553B",
           "#00cc96",
           "#FFA15A",
           "#ab63fa",
           "#00cc96",
           "#EF553B",
           "#00cc96",
           "#00cc96",
           "#FFA15A",
           "#00cc96",
           "#636efa",
           "#ab63fa",
           "#636efa",
           "#636efa",
           "#636efa",
           "#EF553B",
           "#ab63fa",
           "#FFA15A",
           "#00cc96",
           "#EF553B",
           "#ab63fa",
           "#636efa",
           "#ab63fa",
           "#ab63fa",
           "#00cc96",
           "#636efa",
           "#ab63fa",
           "#ab63fa",
           "#636efa",
           "#ab63fa",
           "#EF553B",
           "#FFA15A",
           "#ab63fa",
           "#636efa",
           "#00cc96",
           "#00cc96",
           "#FFA15A",
           "#ab63fa",
           "#ab63fa",
           "#636efa",
           "#FFA15A",
           "#ab63fa",
           "#00cc96",
           "#EF553B",
           "#636efa",
           "#00cc96",
           "#FFA15A",
           "#ab63fa",
           "#FFA15A",
           "#636efa",
           "#FFA15A",
           "#ab63fa",
           "#636efa",
           "#EF553B",
           "#FFA15A",
           "#00cc96",
           "#EF553B",
           "#636efa",
           "#ab63fa",
           "#636efa",
           "#FFA15A",
           "#00cc96",
           "#ab63fa",
           "#636efa",
           "#00cc96",
           "#EF553B",
           "#636efa",
           "#ab63fa",
           "#636efa",
           "#00cc96",
           "#00cc96",
           "#ab63fa",
           "#FFA15A",
           "#636efa",
           "#00cc96",
           "#FFA15A",
           "#EF553B",
           "#FFA15A",
           "#ab63fa",
           "#FFA15A",
           "#FFA15A",
           "#EF553B",
           "#EF553B",
           "#FFA15A",
           "#00cc96",
           "#ab63fa",
           "#00cc96",
           "#636efa",
           "#FFA15A",
           "#00cc96",
           "#EF553B",
           "#00cc96",
           "#EF553B",
           "#00cc96",
           "#636efa",
           "#EF553B",
           "#ab63fa",
           "#636efa",
           "#FFA15A",
           "#00cc96",
           "#ab63fa",
           "#636efa",
           "#EF553B",
           "#FFA15A",
           "#ab63fa",
           "#EF553B",
           "#00cc96",
           "#EF553B",
           "#636efa",
           "#00cc96",
           "#ab63fa",
           "#EF553B",
           "#636efa",
           "#00cc96",
           "#FFA15A",
           "#EF553B",
           "#EF553B",
           "#FFA15A",
           "#FFA15A",
           "#FFA15A",
           "#EF553B",
           "#ab63fa",
           "#EF553B",
           "#EF553B",
           "#FFA15A",
           "#636efa",
           "#00cc96",
           "#FFA15A",
           "#00cc96",
           "#636efa",
           "#ab63fa",
           "#EF553B",
           "#636efa",
           "#ab63fa",
           "#FFA15A",
           "#EF553B",
           "#00cc96",
           "#FFA15A",
           "#ab63fa",
           "#FFA15A",
           "#EF553B",
           "#636efa",
           "#ab63fa",
           "#00cc96",
           "#636efa",
           "#FFA15A",
           "#636efa",
           "#ab63fa",
           "#00cc96",
           "#EF553B",
           "#636efa",
           "#636efa",
           "#EF553B",
           "#FFA15A",
           "#ab63fa",
           "#EF553B",
           "#636efa",
           "#00cc96",
           "#636efa",
           "#ab63fa",
           "#EF553B",
           "#ab63fa",
           "#FFA15A",
           "#00cc96",
           "#ab63fa",
           "#EF553B",
           "#00cc96",
           "#EF553B",
           "#FFA15A",
           "#00cc96",
           "#EF553B",
           "#00cc96",
           "#FFA15A",
           "#ab63fa",
           "#00cc96",
           "#FFA15A",
           "#636efa",
           "#ab63fa",
           "#ab63fa",
           "#FFA15A",
           "#EF553B",
           "#00cc96",
           "#FFA15A",
           "#FFA15A",
           "#EF553B",
           "#00cc96",
           "#00cc96",
           "#ab63fa",
           "#FFA15A",
           "#EF553B",
           "#FFA15A",
           "#EF553B",
           "#19d3f3",
           "#FFA15A",
           "#ab63fa",
           "#00cc96",
           "#FFA15A",
           "#ab63fa",
           "#EF553B",
           "#ab63fa",
           "#ab63fa",
           "#636efa",
           "#EF553B",
           "#FFA15A",
           "#ab63fa",
           "#00cc96",
           "#EF553B",
           "#FFA15A",
           "#00cc96",
           "#19d3f3",
           "#EF553B",
           "#FFA15A",
           "#FFA15A",
           "#EF553B",
           "#636efa",
           "#ab63fa",
           "#636efa",
           "#EF553B",
           "#636efa",
           "#EF553B",
           "#EF553B",
           "#00cc96",
           "#FFA15A",
           "#19d3f3",
           "#EF553B",
           "#00cc96",
           "#ab63fa",
           "#ab63fa",
           "#636efa",
           "#00cc96",
           "#ab63fa",
           "#FFA15A",
           "#EF553B",
           "#ab63fa",
           "#EF553B",
           "#EF553B",
           "#00cc96",
           "#FFA15A",
           "#FFA15A",
           "#FFA15A",
           "#EF553B",
           "#00cc96",
           "#ab63fa",
           "#ab63fa",
           "#636efa",
           "#FFA15A",
           "#00cc96",
           "#ab63fa",
           "#EF553B",
           "#EF553B",
           "#00cc96",
           "#FFA15A",
           "#FFA15A",
           "#636efa",
           "#ab63fa",
           "#00cc96",
           "#19d3f3",
           "#EF553B",
           "#00cc96",
           "#00cc96",
           "#ab63fa",
           "#EF553B",
           "#FFA15A",
           "#EF553B",
           "#FFA15A",
           "#ab63fa",
           "#636efa",
           "#00cc96",
           "#EF553B",
           "#636efa"
          ]
         },
         "name": "",
         "parents": [
          "Fair/H",
          "Premium/H",
          "Fair/I",
          "Premium",
          "Ideal/F",
          "Fair",
          "Good/G",
          "Fair/G",
          "Good/E",
          "Good/H",
          "Premium/J",
          "Very Good/I",
          "Very Good/G",
          "Good",
          "Very Good/F",
          "Very Good/D",
          "Good/E",
          "Very Good/E",
          "Premium/E",
          "Ideal/I",
          "Ideal/G",
          "Fair/E",
          "Fair/J",
          "Good/I",
          "Fair/I",
          "Fair/I",
          "Ideal/D",
          "Fair/H",
          "Premium/F",
          "Fair/F",
          "Fair/E",
          "Fair/F",
          "Good/I",
          "Good/J",
          "Premium/D",
          "Fair/D",
          "Premium/I",
          "Very Good/I",
          "Very Good/D",
          "Ideal/D",
          "Very Good/G",
          "Fair/D",
          "Fair/J",
          "Ideal",
          "Good/G",
          "Ideal/H",
          "Ideal",
          "Ideal/F",
          "Ideal/E",
          "Fair/D",
          "Premium/E",
          "Ideal/I",
          "Very Good/E",
          "Good/E",
          "Ideal/F",
          "Premium/G",
          "Ideal/G",
          "Ideal/E",
          "Very Good/I",
          "Ideal/J",
          "Fair/J",
          "Good/J",
          "Fair/J",
          "Fair/D",
          "Fair/E",
          "Premium/F",
          "Good/I",
          "Very Good/I",
          "Ideal/G",
          "Premium/G",
          "",
          "Fair/H",
          "Good/H",
          "Good/J",
          "Ideal/D",
          "Fair/G",
          "Good/H",
          "Good/I",
          "Fair/I",
          "Good/J",
          "Premium",
          "Very Good",
          "Good",
          "Fair",
          "Ideal",
          "Ideal",
          "Very Good",
          "Good",
          "Good",
          "Fair",
          "Very Good",
          "Good",
          "",
          "",
          "Fair/H",
          "Ideal/H",
          "Very Good/G",
          "Good/F",
          "Very Good/J",
          "Fair/J",
          "Very Good/D",
          "Good/D",
          "Fair/D",
          "Premium/E",
          "Very Good/E",
          "Ideal/F",
          "Premium/G",
          "Fair/F",
          "Good/H",
          "Fair/H",
          "Very Good/I",
          "Ideal/J",
          "Good/D",
          "Fair/D",
          "Ideal/E",
          "Premium/F",
          "Fair/F",
          "Good/F",
          "Fair/G",
          "Ideal/J",
          "Ideal/I",
          "Good/F",
          "Very Good/F",
          "Fair/J",
          "Ideal/D",
          "Very Good/G",
          "Premium/E",
          "Very Good/I",
          "Good/I",
          "Very Good/F",
          "Very Good/D",
          "Premium/G",
          "Premium/G",
          "Very Good/J",
          "Ideal/H",
          "Good/F",
          "Ideal/F",
          "Fair/E",
          "Very Good/H",
          "Ideal/H",
          "Premium/F",
          "Ideal/E",
          "Premium/E",
          "Ideal/E",
          "Fair/D",
          "Premium/J",
          "Good/D",
          "Fair/D",
          "Very Good/J",
          "Ideal/D",
          "Good/G",
          "Fair/G",
          "Premium/F",
          "Very Good/F",
          "Good/G",
          "Premium/G",
          "Ideal/G",
          "Premium/I",
          "Fair/I",
          "Ideal/E",
          "Good/J",
          "Premium/D",
          "Fair/J",
          "Ideal/J",
          "Very Good/D",
          "Premium/H",
          "Premium/D",
          "Very Good/F",
          "Very Good/E",
          "",
          "Premium/D",
          "Good/D",
          "Premium",
          "Premium",
          "Very Good/F",
          "Fair/F",
          "Ideal/G",
          "Very Good",
          "Ideal",
          "Fair",
          "Good",
          "Premium/I",
          "Fair",
          "Good",
          "Very Good",
          "Premium",
          "Ideal",
          "Very Good/J",
          "Good/H",
          "Very Good/H",
          "Premium/H",
          "Fair/G",
          "Good/G",
          "Ideal/G",
          "Fair/F",
          "Very Good/I",
          "Fair/E",
          "Good/E",
          "Ideal/F",
          "Premium/I",
          "",
          "Fair/H",
          "Premium/G",
          "Very Good/G",
          "Good/G",
          "Premium/J",
          "Fair/G",
          "Ideal/H",
          "Fair/I",
          "Good/G",
          "Premium/J",
          "Good/F",
          "Very Good/F",
          "Ideal/F",
          "Good/J",
          "Premium/D",
          "Ideal/D",
          "Premium/D",
          "Very Good/J",
          "Ideal/J",
          "Premium/H",
          "Ideal/H",
          "Very Good/E",
          "Good/D",
          "Ideal/G",
          "Very Good/G",
          "Fair/G",
          "Good/D",
          "Good/G",
          "Very Good/H",
          "Premium/H",
          "Ideal/H",
          "Very Good/G",
          "Very Good/F",
          "Premium/F",
          "Ideal/I",
          "Ideal/D",
          "Good/J",
          "Very Good",
          "Premium",
          "Very Good/D",
          "Premium/E",
          "Fair/H",
          "Very Good/E",
          "Good/E",
          "Ideal/D",
          "Very Good/I",
          "Good/I",
          "Premium/J",
          "Good/D",
          "Good/H",
          "Fair/G",
          "Premium/H",
          "Very Good/G",
          "Good/E",
          "Ideal/E",
          "Premium/E",
          "Very Good/E",
          "Ideal",
          "Fair/E",
          "Premium/D",
          "Very Good",
          "Very Good/H",
          "Premium/I",
          "Fair",
          "Good/I",
          "Fair/I",
          "Premium",
          "Fair",
          "Premium/J",
          "Premium/J",
          "Ideal/J",
          "Very Good/H",
          "Fair/I",
          "Premium/J",
          "Ideal/F",
          "Good/H",
          "Good/E",
          "Fair/F",
          "Ideal/G",
          "Good/F",
          "Very Good/J",
          "Premium/F",
          "Good/E",
          "Premium/D",
          "Premium/I",
          "Ideal/I",
          "Very Good/D",
          "Very Good/H",
          "Very Good/H",
          "Premium/H",
          "Ideal/H",
          "Good/H",
          "Good/F",
          "Fair/E",
          "Very Good/D",
          "Ideal/J",
          "Good/F",
          "Premium/I",
          "Premium/I",
          "Ideal/I",
          "Very Good/J",
          "Very Good/J",
          "Fair/F",
          "Good/J",
          "Ideal/J",
          "Fair/J",
          "Premium/G",
          "Ideal/I",
          "Ideal/E",
          "Good/D",
          "Premium/E",
          "Very Good/E",
          "Premium/H",
          "Very Good/H",
          "Good/I",
          "Fair/H",
          "Ideal/I",
          "Premium/F",
          "Fair/E"
         ],
         "type": "sunburst",
         "values": [
          147352,
          312849,
          137249,
          13160170,
          163945,
          592103,
          653969,
          157393,
          13673,
          294072,
          1215596,
          217252,
          1536661,
          3591553,
          491818,
          155362,
          81956,
          339566,
          95978,
          508845,
          2271131,
          12346,
          138559,
          561574,
          123396,
          299611,
          1837959,
          4115,
          2482728,
          40182,
          253575,
          314129,
          782586,
          281224,
          150840,
          32463,
          261643,
          48361,
          236860,
          389632,
          278494,
          4859,
          133286,
          10138238,
          89323,
          448105,
          9317974,
          577194,
          2457536,
          247854,
          2064652,
          1609324,
          2020838,
          1122557,
          2255876,
          2510676,
          3923423,
          2208997,
          1081779,
          1129175,
          93560,
          432285,
          94499,
          112822,
          127752,
          2613088,
          655222,
          1576772,
          3922132,
          3285060,
          19275009,
          209548,
          611760,
          190467,
          183881,
          453212,
          982132,
          37579,
          119034,
          15178,
          10081319,
          8177367,
          3177637,
          1194025,
          18171930,
          12115278,
          8272552,
          3001931,
          2650994,
          819953,
          3460182,
          1404271,
          74513487,
          63221498,
          219074,
          205777,
          51117,
          48821,
          914831,
          127510,
          1389594,
          801751,
          243888,
          2330274,
          1904354,
          1963985,
          2435695,
          402290,
          873705,
          548039,
          1324320,
          721069,
          27926,
          29532,
          64069,
          120855,
          135401,
          367951,
          242300,
          58005,
          364157,
          159618,
          862016,
          2998,
          904190,
          516673,
          283485,
          141893,
          58321,
          1137075,
          517209,
          501655,
          288067,
          172853,
          624611,
          46993,
          2158465,
          46311,
          401381,
          748844,
          112145,
          738849,
          1086735,
          1290248,
          14606,
          173865,
          152933,
          13419,
          767091,
          45850,
          110913,
          6649,
          1379831,
          1457667,
          778555,
          2763665,
          2241474,
          153811,
          4194,
          1825021,
          4633,
          1831807,
          1691,
          1243109,
          368757,
          162821,
          45825,
          55288,
          75758,
          48107623,
          90565,
          90273,
          5086030,
          8491146,
          313364,
          9376,
          1083161,
          8903461,
          12912518,
          824838,
          3194260,
          54247,
          699443,
          2254363,
          5250817,
          5820962,
          7450854,
          35827,
          53896,
          63106,
          179600,
          168936,
          60720,
          64711,
          89023,
          1859918,
          18857,
          101157,
          1148943,
          2235798,
          7017600,
          389685,
          1188982,
          1120959,
          248285,
          1247463,
          52684,
          2245754,
          23957,
          795017,
          218394,
          697460,
          1862110,
          2915823,
          56825,
          989662,
          1942973,
          547324,
          520751,
          951620,
          1326977,
          1687423,
          905182,
          716018,
          2937834,
          2120445,
          246976,
          58641,
          854771,
          2698868,
          3738558,
          3639501,
          1650407,
          1998029,
          598522,
          142749,
          1027800,
          407231,
          7715165,
          8270443,
          971865,
          1931278,
          0,
          1674737,
          603523,
          1118569,
          77784,
          10496,
          59504,
          373200,
          23795,
          2976,
          135390,
          1628705,
          330437,
          257456,
          122187,
          186308,
          4406695,
          0,
          365513,
          6328079,
          963801,
          1180000,
          1556112,
          473508,
          112512,
          12311428,
          1331126,
          890041,
          1196855,
          18908,
          76783,
          0,
          84312,
          1728287,
          109260,
          764669,
          23399,
          1728064,
          890377,
          979901,
          2456604,
          176288,
          1799426,
          2230327,
          1970584,
          1598056,
          234852,
          2096558,
          3500571,
          2515263,
          53311,
          889784,
          40551,
          13114,
          62225,
          76633,
          2254249,
          121071,
          69756,
          8593,
          60335,
          180225,
          16428,
          222584,
          0,
          186370,
          2609997,
          1296062,
          33621,
          355854,
          608422,
          2954662,
          1737203,
          71708,
          38299,
          2042562,
          317546,
          325446
         ]
        }
       ],
       "layout": {
        "legend": {
         "tracegroupgap": 0
        },
        "margin": {
         "t": 60
        },
        "template": {
         "data": {
          "bar": [
           {
            "error_x": {
             "color": "#2a3f5f"
            },
            "error_y": {
             "color": "#2a3f5f"
            },
            "marker": {
             "line": {
              "color": "#E5ECF6",
              "width": 0.5
             },
             "pattern": {
              "fillmode": "overlay",
              "size": 10,
              "solidity": 0.2
             }
            },
            "type": "bar"
           }
          ],
          "barpolar": [
           {
            "marker": {
             "line": {
              "color": "#E5ECF6",
              "width": 0.5
             },
             "pattern": {
              "fillmode": "overlay",
              "size": 10,
              "solidity": 0.2
             }
            },
            "type": "barpolar"
           }
          ],
          "carpet": [
           {
            "aaxis": {
             "endlinecolor": "#2a3f5f",
             "gridcolor": "white",
             "linecolor": "white",
             "minorgridcolor": "white",
             "startlinecolor": "#2a3f5f"
            },
            "baxis": {
             "endlinecolor": "#2a3f5f",
             "gridcolor": "white",
             "linecolor": "white",
             "minorgridcolor": "white",
             "startlinecolor": "#2a3f5f"
            },
            "type": "carpet"
           }
          ],
          "choropleth": [
           {
            "colorbar": {
             "outlinewidth": 0,
             "ticks": ""
            },
            "type": "choropleth"
           }
          ],
          "contour": [
           {
            "colorbar": {
             "outlinewidth": 0,
             "ticks": ""
            },
            "colorscale": [
             [
              0,
              "#0d0887"
             ],
             [
              0.1111111111111111,
              "#46039f"
             ],
             [
              0.2222222222222222,
              "#7201a8"
             ],
             [
              0.3333333333333333,
              "#9c179e"
             ],
             [
              0.4444444444444444,
              "#bd3786"
             ],
             [
              0.5555555555555556,
              "#d8576b"
             ],
             [
              0.6666666666666666,
              "#ed7953"
             ],
             [
              0.7777777777777778,
              "#fb9f3a"
             ],
             [
              0.8888888888888888,
              "#fdca26"
             ],
             [
              1,
              "#f0f921"
             ]
            ],
            "type": "contour"
           }
          ],
          "contourcarpet": [
           {
            "colorbar": {
             "outlinewidth": 0,
             "ticks": ""
            },
            "type": "contourcarpet"
           }
          ],
          "heatmap": [
           {
            "colorbar": {
             "outlinewidth": 0,
             "ticks": ""
            },
            "colorscale": [
             [
              0,
              "#0d0887"
             ],
             [
              0.1111111111111111,
              "#46039f"
             ],
             [
              0.2222222222222222,
              "#7201a8"
             ],
             [
              0.3333333333333333,
              "#9c179e"
             ],
             [
              0.4444444444444444,
              "#bd3786"
             ],
             [
              0.5555555555555556,
              "#d8576b"
             ],
             [
              0.6666666666666666,
              "#ed7953"
             ],
             [
              0.7777777777777778,
              "#fb9f3a"
             ],
             [
              0.8888888888888888,
              "#fdca26"
             ],
             [
              1,
              "#f0f921"
             ]
            ],
            "type": "heatmap"
           }
          ],
          "heatmapgl": [
           {
            "colorbar": {
             "outlinewidth": 0,
             "ticks": ""
            },
            "colorscale": [
             [
              0,
              "#0d0887"
             ],
             [
              0.1111111111111111,
              "#46039f"
             ],
             [
              0.2222222222222222,
              "#7201a8"
             ],
             [
              0.3333333333333333,
              "#9c179e"
             ],
             [
              0.4444444444444444,
              "#bd3786"
             ],
             [
              0.5555555555555556,
              "#d8576b"
             ],
             [
              0.6666666666666666,
              "#ed7953"
             ],
             [
              0.7777777777777778,
              "#fb9f3a"
             ],
             [
              0.8888888888888888,
              "#fdca26"
             ],
             [
              1,
              "#f0f921"
             ]
            ],
            "type": "heatmapgl"
           }
          ],
          "histogram": [
           {
            "marker": {
             "pattern": {
              "fillmode": "overlay",
              "size": 10,
              "solidity": 0.2
             }
            },
            "type": "histogram"
           }
          ],
          "histogram2d": [
           {
            "colorbar": {
             "outlinewidth": 0,
             "ticks": ""
            },
            "colorscale": [
             [
              0,
              "#0d0887"
             ],
             [
              0.1111111111111111,
              "#46039f"
             ],
             [
              0.2222222222222222,
              "#7201a8"
             ],
             [
              0.3333333333333333,
              "#9c179e"
             ],
             [
              0.4444444444444444,
              "#bd3786"
             ],
             [
              0.5555555555555556,
              "#d8576b"
             ],
             [
              0.6666666666666666,
              "#ed7953"
             ],
             [
              0.7777777777777778,
              "#fb9f3a"
             ],
             [
              0.8888888888888888,
              "#fdca26"
             ],
             [
              1,
              "#f0f921"
             ]
            ],
            "type": "histogram2d"
           }
          ],
          "histogram2dcontour": [
           {
            "colorbar": {
             "outlinewidth": 0,
             "ticks": ""
            },
            "colorscale": [
             [
              0,
              "#0d0887"
             ],
             [
              0.1111111111111111,
              "#46039f"
             ],
             [
              0.2222222222222222,
              "#7201a8"
             ],
             [
              0.3333333333333333,
              "#9c179e"
             ],
             [
              0.4444444444444444,
              "#bd3786"
             ],
             [
              0.5555555555555556,
              "#d8576b"
             ],
             [
              0.6666666666666666,
              "#ed7953"
             ],
             [
              0.7777777777777778,
              "#fb9f3a"
             ],
             [
              0.8888888888888888,
              "#fdca26"
             ],
             [
              1,
              "#f0f921"
             ]
            ],
            "type": "histogram2dcontour"
           }
          ],
          "mesh3d": [
           {
            "colorbar": {
             "outlinewidth": 0,
             "ticks": ""
            },
            "type": "mesh3d"
           }
          ],
          "parcoords": [
           {
            "line": {
             "colorbar": {
              "outlinewidth": 0,
              "ticks": ""
             }
            },
            "type": "parcoords"
           }
          ],
          "pie": [
           {
            "automargin": true,
            "type": "pie"
           }
          ],
          "scatter": [
           {
            "fillpattern": {
             "fillmode": "overlay",
             "size": 10,
             "solidity": 0.2
            },
            "type": "scatter"
           }
          ],
          "scatter3d": [
           {
            "line": {
             "colorbar": {
              "outlinewidth": 0,
              "ticks": ""
             }
            },
            "marker": {
             "colorbar": {
              "outlinewidth": 0,
              "ticks": ""
             }
            },
            "type": "scatter3d"
           }
          ],
          "scattercarpet": [
           {
            "marker": {
             "colorbar": {
              "outlinewidth": 0,
              "ticks": ""
             }
            },
            "type": "scattercarpet"
           }
          ],
          "scattergeo": [
           {
            "marker": {
             "colorbar": {
              "outlinewidth": 0,
              "ticks": ""
             }
            },
            "type": "scattergeo"
           }
          ],
          "scattergl": [
           {
            "marker": {
             "colorbar": {
              "outlinewidth": 0,
              "ticks": ""
             }
            },
            "type": "scattergl"
           }
          ],
          "scattermapbox": [
           {
            "marker": {
             "colorbar": {
              "outlinewidth": 0,
              "ticks": ""
             }
            },
            "type": "scattermapbox"
           }
          ],
          "scatterpolar": [
           {
            "marker": {
             "colorbar": {
              "outlinewidth": 0,
              "ticks": ""
             }
            },
            "type": "scatterpolar"
           }
          ],
          "scatterpolargl": [
           {
            "marker": {
             "colorbar": {
              "outlinewidth": 0,
              "ticks": ""
             }
            },
            "type": "scatterpolargl"
           }
          ],
          "scatterternary": [
           {
            "marker": {
             "colorbar": {
              "outlinewidth": 0,
              "ticks": ""
             }
            },
            "type": "scatterternary"
           }
          ],
          "surface": [
           {
            "colorbar": {
             "outlinewidth": 0,
             "ticks": ""
            },
            "colorscale": [
             [
              0,
              "#0d0887"
             ],
             [
              0.1111111111111111,
              "#46039f"
             ],
             [
              0.2222222222222222,
              "#7201a8"
             ],
             [
              0.3333333333333333,
              "#9c179e"
             ],
             [
              0.4444444444444444,
              "#bd3786"
             ],
             [
              0.5555555555555556,
              "#d8576b"
             ],
             [
              0.6666666666666666,
              "#ed7953"
             ],
             [
              0.7777777777777778,
              "#fb9f3a"
             ],
             [
              0.8888888888888888,
              "#fdca26"
             ],
             [
              1,
              "#f0f921"
             ]
            ],
            "type": "surface"
           }
          ],
          "table": [
           {
            "cells": {
             "fill": {
              "color": "#EBF0F8"
             },
             "line": {
              "color": "white"
             }
            },
            "header": {
             "fill": {
              "color": "#C8D4E3"
             },
             "line": {
              "color": "white"
             }
            },
            "type": "table"
           }
          ]
         },
         "layout": {
          "annotationdefaults": {
           "arrowcolor": "#2a3f5f",
           "arrowhead": 0,
           "arrowwidth": 1
          },
          "autotypenumbers": "strict",
          "coloraxis": {
           "colorbar": {
            "outlinewidth": 0,
            "ticks": ""
           }
          },
          "colorscale": {
           "diverging": [
            [
             0,
             "#8e0152"
            ],
            [
             0.1,
             "#c51b7d"
            ],
            [
             0.2,
             "#de77ae"
            ],
            [
             0.3,
             "#f1b6da"
            ],
            [
             0.4,
             "#fde0ef"
            ],
            [
             0.5,
             "#f7f7f7"
            ],
            [
             0.6,
             "#e6f5d0"
            ],
            [
             0.7,
             "#b8e186"
            ],
            [
             0.8,
             "#7fbc41"
            ],
            [
             0.9,
             "#4d9221"
            ],
            [
             1,
             "#276419"
            ]
           ],
           "sequential": [
            [
             0,
             "#0d0887"
            ],
            [
             0.1111111111111111,
             "#46039f"
            ],
            [
             0.2222222222222222,
             "#7201a8"
            ],
            [
             0.3333333333333333,
             "#9c179e"
            ],
            [
             0.4444444444444444,
             "#bd3786"
            ],
            [
             0.5555555555555556,
             "#d8576b"
            ],
            [
             0.6666666666666666,
             "#ed7953"
            ],
            [
             0.7777777777777778,
             "#fb9f3a"
            ],
            [
             0.8888888888888888,
             "#fdca26"
            ],
            [
             1,
             "#f0f921"
            ]
           ],
           "sequentialminus": [
            [
             0,
             "#0d0887"
            ],
            [
             0.1111111111111111,
             "#46039f"
            ],
            [
             0.2222222222222222,
             "#7201a8"
            ],
            [
             0.3333333333333333,
             "#9c179e"
            ],
            [
             0.4444444444444444,
             "#bd3786"
            ],
            [
             0.5555555555555556,
             "#d8576b"
            ],
            [
             0.6666666666666666,
             "#ed7953"
            ],
            [
             0.7777777777777778,
             "#fb9f3a"
            ],
            [
             0.8888888888888888,
             "#fdca26"
            ],
            [
             1,
             "#f0f921"
            ]
           ]
          },
          "colorway": [
           "#636efa",
           "#EF553B",
           "#00cc96",
           "#ab63fa",
           "#FFA15A",
           "#19d3f3",
           "#FF6692",
           "#B6E880",
           "#FF97FF",
           "#FECB52"
          ],
          "font": {
           "color": "#2a3f5f"
          },
          "geo": {
           "bgcolor": "white",
           "lakecolor": "white",
           "landcolor": "#E5ECF6",
           "showlakes": true,
           "showland": true,
           "subunitcolor": "white"
          },
          "hoverlabel": {
           "align": "left"
          },
          "hovermode": "closest",
          "mapbox": {
           "style": "light"
          },
          "paper_bgcolor": "white",
          "plot_bgcolor": "#E5ECF6",
          "polar": {
           "angularaxis": {
            "gridcolor": "white",
            "linecolor": "white",
            "ticks": ""
           },
           "bgcolor": "#E5ECF6",
           "radialaxis": {
            "gridcolor": "white",
            "linecolor": "white",
            "ticks": ""
           }
          },
          "scene": {
           "xaxis": {
            "backgroundcolor": "#E5ECF6",
            "gridcolor": "white",
            "gridwidth": 2,
            "linecolor": "white",
            "showbackground": true,
            "ticks": "",
            "zerolinecolor": "white"
           },
           "yaxis": {
            "backgroundcolor": "#E5ECF6",
            "gridcolor": "white",
            "gridwidth": 2,
            "linecolor": "white",
            "showbackground": true,
            "ticks": "",
            "zerolinecolor": "white"
           },
           "zaxis": {
            "backgroundcolor": "#E5ECF6",
            "gridcolor": "white",
            "gridwidth": 2,
            "linecolor": "white",
            "showbackground": true,
            "ticks": "",
            "zerolinecolor": "white"
           }
          },
          "shapedefaults": {
           "line": {
            "color": "#2a3f5f"
           }
          },
          "ternary": {
           "aaxis": {
            "gridcolor": "white",
            "linecolor": "white",
            "ticks": ""
           },
           "baxis": {
            "gridcolor": "white",
            "linecolor": "white",
            "ticks": ""
           },
           "bgcolor": "#E5ECF6",
           "caxis": {
            "gridcolor": "white",
            "linecolor": "white",
            "ticks": ""
           }
          },
          "title": {
           "x": 0.05
          },
          "xaxis": {
           "automargin": true,
           "gridcolor": "white",
           "linecolor": "white",
           "ticks": "",
           "title": {
            "standoff": 15
           },
           "zerolinecolor": "white",
           "zerolinewidth": 2
          },
          "yaxis": {
           "automargin": true,
           "gridcolor": "white",
           "linecolor": "white",
           "ticks": "",
           "title": {
            "standoff": 15
           },
           "zerolinecolor": "white",
           "zerolinewidth": 2
          }
         }
        }
       }
      }
     },
     "metadata": {},
     "output_type": "display_data"
    }
   ],
   "source": [
    "fig = px.sunburst(df, path=[\"cut\",\"color\",\"clarity\"],\n",
    "                  values=\"price\", color=\"cut\", hover_data=[\"carat\"])\n",
    "fig.show()"
   ]
  }
 ],
 "metadata": {
  "kernelspec": {
   "display_name": "Python 3",
   "language": "python",
   "name": "python3"
  },
  "language_info": {
   "codemirror_mode": {
    "name": "ipython",
    "version": 3
   },
   "file_extension": ".py",
   "mimetype": "text/x-python",
   "name": "python",
   "nbconvert_exporter": "python",
   "pygments_lexer": "ipython3",
   "version": "3.11.2"
  },
  "orig_nbformat": 4
 },
 "nbformat": 4,
 "nbformat_minor": 2
}
